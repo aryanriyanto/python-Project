{
 "cells": [
  {
   "cell_type": "markdown",
   "id": "d433c2a3",
   "metadata": {},
   "source": [
    "# if - Elif - Else Statements"
   ]
  },
  {
   "cell_type": "code",
   "execution_count": 1,
   "id": "ac3991a5",
   "metadata": {},
   "outputs": [
    {
     "name": "stdout",
     "output_type": "stream",
     "text": [
      "It Worked\n"
     ]
    }
   ],
   "source": [
    "if 25 > 10 :\n",
    "    print('It Worked')"
   ]
  },
  {
   "cell_type": "code",
   "execution_count": 4,
   "id": "98afda7d",
   "metadata": {},
   "outputs": [
    {
     "name": "stdout",
     "output_type": "stream",
     "text": [
      "It did not work\n"
     ]
    }
   ],
   "source": [
    "if 25 < 10 :\n",
    "    print('It Worked')\n",
    "else :\n",
    "    print('It did not work')\n",
    "    "
   ]
  },
  {
   "cell_type": "code",
   "execution_count": 14,
   "id": "cad063a4",
   "metadata": {},
   "outputs": [
    {
     "name": "stdout",
     "output_type": "stream",
     "text": [
      "Elif Worked\n"
     ]
    }
   ],
   "source": [
    "if 25 < 10 :\n",
    "    print('It Worked')\n",
    "elif 25 < 30:\n",
    "    print('Elif Worked')\n",
    "elif 25 < 40 :\n",
    "    print('Elif 2 Worked')\n",
    "else :\n",
    "    print('It did not work')"
   ]
  }
 ],
 "metadata": {
  "kernelspec": {
   "display_name": "Python 3 (ipykernel)",
   "language": "python",
   "name": "python3"
  },
  "language_info": {
   "codemirror_mode": {
    "name": "ipython",
    "version": 3
   },
   "file_extension": ".py",
   "mimetype": "text/x-python",
   "name": "python",
   "nbconvert_exporter": "python",
   "pygments_lexer": "ipython3",
   "version": "3.11.5"
  }
 },
 "nbformat": 4,
 "nbformat_minor": 5
}
