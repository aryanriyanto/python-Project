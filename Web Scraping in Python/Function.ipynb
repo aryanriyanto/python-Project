{
 "cells": [
  {
   "cell_type": "markdown",
   "id": "60add815",
   "metadata": {},
   "source": [
    "# functions"
   ]
  },
  {
   "cell_type": "code",
   "execution_count": 2,
   "id": "9d87c802",
   "metadata": {},
   "outputs": [],
   "source": [
    "def first_func():\n",
    "    print('Hallo Brother!!!')"
   ]
  },
  {
   "cell_type": "code",
   "execution_count": 3,
   "id": "e2fd716a",
   "metadata": {},
   "outputs": [
    {
     "name": "stdout",
     "output_type": "stream",
     "text": [
      "Hallo Brother!!!\n"
     ]
    }
   ],
   "source": [
    "first_func()"
   ]
  },
  {
   "cell_type": "code",
   "execution_count": 11,
   "id": "ee014ea8",
   "metadata": {},
   "outputs": [],
   "source": [
    "def number_Squared(number):\n",
    "    print(number**2)"
   ]
  },
  {
   "cell_type": "code",
   "execution_count": 12,
   "id": "25370624",
   "metadata": {},
   "outputs": [
    {
     "name": "stdout",
     "output_type": "stream",
     "text": [
      "25\n"
     ]
    }
   ],
   "source": [
    "number_Squared(5)"
   ]
  },
  {
   "cell_type": "code",
   "execution_count": 16,
   "id": "b9bfdc4e",
   "metadata": {},
   "outputs": [],
   "source": [
    "def number_Squared(number, power):\n",
    "    print(number*power)\n",
    "    "
   ]
  },
  {
   "cell_type": "code",
   "execution_count": 17,
   "id": "b68b3337",
   "metadata": {},
   "outputs": [
    {
     "name": "stdout",
     "output_type": "stream",
     "text": [
      "20\n"
     ]
    }
   ],
   "source": [
    "number_Squared(5, 4)"
   ]
  },
  {
   "cell_type": "code",
   "execution_count": 26,
   "id": "042d12c1",
   "metadata": {},
   "outputs": [],
   "source": [
    "def number_args(*number):\n",
    "    print(number[0]*number[1])"
   ]
  },
  {
   "cell_type": "code",
   "execution_count": 34,
   "id": "d143e27a",
   "metadata": {},
   "outputs": [
    {
     "name": "stdout",
     "output_type": "stream",
     "text": [
      "6\n"
     ]
    }
   ],
   "source": [
    "number_args(2,3,4,5)"
   ]
  },
  {
   "cell_type": "code",
   "execution_count": 35,
   "id": "7153c8e2",
   "metadata": {},
   "outputs": [],
   "source": [
    "#hasil 6 dari perkalian angka 2 (urutan ke 0)dan 3 (urutan ke 1)"
   ]
  },
  {
   "cell_type": "code",
   "execution_count": 36,
   "id": "032b27e4",
   "metadata": {},
   "outputs": [],
   "source": [
    "tuple_args = (2,3,4,5)\n",
    "\n",
    "def number_args(*number):\n",
    "    print(number[0]*number[1])"
   ]
  },
  {
   "cell_type": "code",
   "execution_count": 37,
   "id": "c27709c1",
   "metadata": {},
   "outputs": [
    {
     "name": "stdout",
     "output_type": "stream",
     "text": [
      "6\n"
     ]
    }
   ],
   "source": [
    "number_args(*tuple_args)"
   ]
  },
  {
   "cell_type": "code",
   "execution_count": 39,
   "id": "7d4de479",
   "metadata": {},
   "outputs": [],
   "source": [
    "def number_squared_custt(number, power):\n",
    "    print(number**2)"
   ]
  },
  {
   "cell_type": "code",
   "execution_count": 40,
   "id": "d3525c3c",
   "metadata": {},
   "outputs": [
    {
     "name": "stdout",
     "output_type": "stream",
     "text": [
      "25\n"
     ]
    }
   ],
   "source": [
    "number_squared_custt(power = 2, number = 5)"
   ]
  },
  {
   "cell_type": "code",
   "execution_count": 44,
   "id": "cd2d6e64",
   "metadata": {},
   "outputs": [],
   "source": [
    "def number_kwarg(**number):\n",
    "    print('My number is : '+ number['intgr'])"
   ]
  },
  {
   "cell_type": "code",
   "execution_count": 45,
   "id": "5ed63b2c",
   "metadata": {},
   "outputs": [
    {
     "name": "stdout",
     "output_type": "stream",
     "text": [
      "My number is : 230\n"
     ]
    }
   ],
   "source": [
    "number_kwarg(intgr = '230')"
   ]
  },
  {
   "cell_type": "code",
   "execution_count": 48,
   "id": "084907f9",
   "metadata": {},
   "outputs": [],
   "source": [
    "def number_kwarg(**number):\n",
    "    print('My number is : '+ number['intgr'] + '\\nMy other number : '+ number['intgr2'])"
   ]
  },
  {
   "cell_type": "code",
   "execution_count": 50,
   "id": "1ea1b054",
   "metadata": {},
   "outputs": [
    {
     "name": "stdout",
     "output_type": "stream",
     "text": [
      "My number is : 230\n",
      "My other number : 25\n"
     ]
    }
   ],
   "source": [
    "number_kwarg(intgr = '230', intgr2 = '25')"
   ]
  },
  {
   "cell_type": "code",
   "execution_count": null,
   "id": "65cddfd0",
   "metadata": {},
   "outputs": [],
   "source": []
  }
 ],
 "metadata": {
  "kernelspec": {
   "display_name": "Python 3 (ipykernel)",
   "language": "python",
   "name": "python3"
  },
  "language_info": {
   "codemirror_mode": {
    "name": "ipython",
    "version": 3
   },
   "file_extension": ".py",
   "mimetype": "text/x-python",
   "name": "python",
   "nbconvert_exporter": "python",
   "pygments_lexer": "ipython3",
   "version": "3.11.5"
  }
 },
 "nbformat": 4,
 "nbformat_minor": 5
}
