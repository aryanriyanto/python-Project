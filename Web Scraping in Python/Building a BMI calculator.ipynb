{
 "cells": [
  {
   "cell_type": "markdown",
   "id": "aeec5426",
   "metadata": {},
   "source": [
    "# Building a BMI calculator"
   ]
  },
  {
   "cell_type": "code",
   "execution_count": 73,
   "id": "94c3531d",
   "metadata": {},
   "outputs": [],
   "source": [
    "#Menghitung Berat Badan Ideal"
   ]
  },
  {
   "cell_type": "code",
   "execution_count": 80,
   "id": "fdabd6fe",
   "metadata": {},
   "outputs": [
    {
     "name": "stdout",
     "output_type": "stream",
     "text": [
      "Masukan Nama anda : aryan\n",
      "Masukan tinggi anda : 1.74\n",
      "Masukan berat anda : 62\n"
     ]
    }
   ],
   "source": [
    "name = str(input(\"Masukan Nama anda : \"))\n",
    "height = float(input(\"Masukan tinggi anda : \"))\n",
    "weight = float(input(\"Masukan berat anda : \"))\n",
    "\n",
    "BMI =(weight)/(height * height)"
   ]
  },
  {
   "cell_type": "code",
   "execution_count": 81,
   "id": "91c40961",
   "metadata": {},
   "outputs": [
    {
     "name": "stdout",
     "output_type": "stream",
     "text": [
      "Tinggi \t:  1.74\n",
      "Berat \t:  62.0\n",
      "Berat badan idela anda :  20.478266613819528\n"
     ]
    }
   ],
   "source": [
    "print(\"Tinggi \\t: \",height)\n",
    "print(\"Berat \\t: \",weight)\n",
    "print(\"Berat badan idela anda : \", BMI)"
   ]
  },
  {
   "cell_type": "code",
   "execution_count": 82,
   "id": "075fbf94",
   "metadata": {},
   "outputs": [
    {
     "name": "stdout",
     "output_type": "stream",
     "text": [
      "aryan kamu Normal\n"
     ]
    }
   ],
   "source": [
    "if (BMI < 18.5):\n",
    "    print(name +\" kamu Tidak Ideal\");\n",
    "elif(BMI <= 24.9):\n",
    "    print(name +\" kamu Normal\");\n",
    "elif(BMI <= 29.9):\n",
    "    print(name +\" kamu Overweight\");\n",
    "elif(BMI <= 34.9):\n",
    "    print(name +\" kamu Obesitas\");\n",
    "elif(BMI <= 39.9):\n",
    "    print(name +\" kamu Serverely\");\n",
    "else :\n",
    "    (\"Extream\");"
   ]
  },
  {
   "cell_type": "code",
   "execution_count": 83,
   "id": "46a6c8d8",
   "metadata": {},
   "outputs": [
    {
     "data": {
      "text/plain": [
       "float"
      ]
     },
     "execution_count": 83,
     "metadata": {},
     "output_type": "execute_result"
    }
   ],
   "source": [
    "type(BMI)"
   ]
  }
 ],
 "metadata": {
  "kernelspec": {
   "display_name": "Python 3 (ipykernel)",
   "language": "python",
   "name": "python3"
  },
  "language_info": {
   "codemirror_mode": {
    "name": "ipython",
    "version": 3
   },
   "file_extension": ".py",
   "mimetype": "text/x-python",
   "name": "python",
   "nbconvert_exporter": "python",
   "pygments_lexer": "ipython3",
   "version": "3.11.5"
  }
 },
 "nbformat": 4,
 "nbformat_minor": 5
}
