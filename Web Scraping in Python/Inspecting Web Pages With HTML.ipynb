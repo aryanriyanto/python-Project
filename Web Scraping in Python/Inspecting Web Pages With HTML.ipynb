{
 "cells": [
  {
   "cell_type": "markdown",
   "id": "bf46a92b",
   "metadata": {},
   "source": [
    "# Inspecting Web Pages With HTML"
   ]
  },
  {
   "cell_type": "code",
   "execution_count": null,
   "id": "6669344b",
   "metadata": {},
   "outputs": [],
   "source": []
  },
  {
   "cell_type": "code",
   "execution_count": null,
   "id": "3f38491c",
   "metadata": {},
   "outputs": [],
   "source": []
  }
 ],
 "metadata": {
  "kernelspec": {
   "display_name": "Python 3 (ipykernel)",
   "language": "python",
   "name": "python3"
  },
  "language_info": {
   "codemirror_mode": {
    "name": "ipython",
    "version": 3
   },
   "file_extension": ".py",
   "mimetype": "text/x-python",
   "name": "python",
   "nbconvert_exporter": "python",
   "pygments_lexer": "ipython3",
   "version": "3.11.5"
  }
 },
 "nbformat": 4,
 "nbformat_minor": 5
}
